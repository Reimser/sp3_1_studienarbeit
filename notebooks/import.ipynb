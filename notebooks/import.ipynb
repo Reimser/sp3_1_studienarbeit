{
 "cells": [
  {
   "cell_type": "markdown",
   "metadata": {},
   "source": [
    "# import and read"
   ]
  },
  {
   "cell_type": "code",
   "execution_count": 84,
   "metadata": {},
   "outputs": [],
   "source": [
    "import os\n",
    "import json\n",
    "import pandas as pd\n",
    "import numpy as np"
   ]
  },
  {
   "cell_type": "code",
   "execution_count": 85,
   "metadata": {},
   "outputs": [],
   "source": [
    "# Pfad zur Excel-Datei\n",
    "file_path = 'C:\\\\Users\\\\hp\\\\OneDrive\\\\Desktop\\\\DBU\\\\SP3-1.Dateninfrastrukturen\\\\Pruefung\\\\input\\\\Zensus.xlsx'"
   ]
  },
  {
   "cell_type": "code",
   "execution_count": 86,
   "metadata": {},
   "outputs": [],
   "source": [
    "# Lese die Excel-Datei ein und speichere die Blätter als einzelne DataFrames\n",
    "sheets = pd.read_excel(file_path, sheet_name=None)\n"
   ]
  },
  {
   "cell_type": "code",
   "execution_count": 87,
   "metadata": {},
   "outputs": [],
   "source": [
    "csv_sheets = {sheet_name: data for sheet_name, data in sheets.items() if sheet_name.startswith('CSV')}\n"
   ]
  },
  {
   "cell_type": "code",
   "execution_count": 88,
   "metadata": {},
   "outputs": [
    {
     "name": "stdout",
     "output_type": "stream",
     "text": [
      "dict_keys(['CSV-Klassenstufe', 'CSV-Schulform', 'CSV-Hoechster_Schulabschluss', 'CSV-Hoechster_berufl_Abschluss', 'CSV-Erwerbsstatus', 'CSV-ET_Alter', 'CSV-ET_Hoechst_berufl_Abschl', 'CSV-ET_Stellung_im_Beruf', 'CSV-ET_Beruf_Hauptgr_ISCO08', 'CSV-ET_Wirtschaftszweig'])\n"
     ]
    }
   ],
   "source": [
    "sheet_names = csv_sheets.keys()\n",
    "print(sheet_names)"
   ]
  },
  {
   "cell_type": "markdown",
   "metadata": {},
   "source": [
    "# transform"
   ]
  },
  {
   "cell_type": "code",
   "execution_count": 89,
   "metadata": {},
   "outputs": [
    {
     "name": "stdout",
     "output_type": "stream",
     "text": [
      "Erstellte DataFrames:\n",
      "CSV_Klassenstufe\n",
      "CSV_Schulform\n",
      "CSV_Hoechster_Schulabschluss\n",
      "CSV_Hoechster_berufl_Abschluss\n",
      "CSV_Erwerbsstatus\n",
      "CSV_ET_Alter\n",
      "CSV_ET_Hoechst_berufl_Abschl\n",
      "CSV_ET_Stellung_im_Beruf\n",
      "CSV_ET_Beruf_Hauptgr_ISCO08\n",
      "CSV_ET_Wirtschaftszweig\n"
     ]
    }
   ],
   "source": [
    "# Speichern der DataFrames in separaten Variablen mit angepassten Namen\n",
    "created_dfs = []\n",
    "for sheet_name, data in csv_sheets.items():\n",
    "    new_sheet_name = sheet_name.replace('-', '_')\n",
    "    globals()[new_sheet_name] = data\n",
    "    created_dfs.append(new_sheet_name)\n",
    "\n",
    "# Anzeigen der neuen Namen der erstellten DataFrames\n",
    "print(\"Erstellte DataFrames:\")\n",
    "for df_name in created_dfs:\n",
    "    print(df_name)"
   ]
  },
  {
   "cell_type": "code",
   "execution_count": null,
   "metadata": {},
   "outputs": [],
   "source": [
    "# Überprüfung auf fehlende Werte in allen DataFrames\n",
    "for i, df_name in enumerate(created_dfs):\n",
    "    df = globals()[df_name]\n",
    "    print(f\"Missing values in DataFrame {i + 1} ({df_name}):\")\n",
    "    print(df.isnull().sum())\n",
    "   "
   ]
  },
  {
   "cell_type": "markdown",
   "metadata": {},
   "source": [
    "# EDA"
   ]
  },
  {
   "cell_type": "code",
   "execution_count": 90,
   "metadata": {},
   "outputs": [],
   "source": [
    "df=pd.DataFrame(CSV_Klassenstufe)"
   ]
  },
  {
   "cell_type": "code",
   "execution_count": 91,
   "metadata": {},
   "outputs": [
    {
     "name": "stdout",
     "output_type": "stream",
     "text": [
      "   Berichtszeitpunkt          _RS                    Name                          Regionalebene SCHUELER_KLSS_STP SCHUELER_KLSS_STP__M SCHUELER_KLSS_STP__W SCHUELER_KLSS_STP__1 SCHUELER_KLSS_STP__1_M SCHUELER_KLSS_STP__1_W SCHUELER_KLSS_STP__2 SCHUELER_KLSS_STP__2_M SCHUELER_KLSS_STP__2_W SCHUELER_KLSS_STP__3 SCHUELER_KLSS_STP__3_M SCHUELER_KLSS_STP__3_W\n",
      "0           20220515            0             Deutschland                                   Bund           8903780              4536040              4367740              3048570                1563180                1485400              4490850                2324270                2166580              1364360                 648590                 715760\n",
      "1           20220515            1      Schleswig-Holstein                                   Land            320060               162880               157180               109240                  54930                  54310               161100                  83860                  77240                49720                  24090                  25630\n",
      "2           20220515         1001        Flensburg, Stadt  Stadtkreis/kreisfreie Stadt/Landkreis             10380                 5010                 5370                 3530                   1540                   1990                 5030                   2700                   2330                 1820                    770                   1060\n",
      "3           20220515  10010000000        Flensburg, Stadt                               Gemeinde             10380                 5010                 5370                 3530                   1540                   1990                 5030                   2700                   2330                 1820                    770                   1060\n",
      "4           20220515         1002  Kiel, Landeshauptstadt  Stadtkreis/kreisfreie Stadt/Landkreis             24340                12270                12070                 8770                   4180                   4590                11180                   5810                   5360                 4400                   2280                   2120\n"
     ]
    }
   ],
   "source": [
    "# Optionen einstellen\n",
    "pd.set_option('display.max_columns', None)\n",
    "pd.set_option('display.expand_frame_repr', False)\n",
    "\n",
    "# DataFrame anzeigen\n",
    "print(df.head())"
   ]
  },
  {
   "cell_type": "code",
   "execution_count": 92,
   "metadata": {},
   "outputs": [
    {
     "data": {
      "text/plain": [
       "Regionalebene\n",
       "Gemeinde                                 10786\n",
       "Gemeindeverband                           1207\n",
       "Stadtkreis/kreisfreie Stadt/Landkreis      400\n",
       "Regierungsbezirk                            29\n",
       "Land                                        16\n",
       "Bund                                         1\n",
       "Name: count, dtype: int64"
      ]
     },
     "execution_count": 92,
     "metadata": {},
     "output_type": "execute_result"
    }
   ],
   "source": [
    "df['Regionalebene'].value_counts()"
   ]
  },
  {
   "cell_type": "code",
   "execution_count": 96,
   "metadata": {},
   "outputs": [
    {
     "name": "stdout",
     "output_type": "stream",
     "text": [
      "['Bund' 'Land' 'Stadtkreis/kreisfreie Stadt/Landkreis' 'Gemeinde'\n",
      " 'Gemeindeverband' 'Regierungsbezirk']\n"
     ]
    }
   ],
   "source": [
    "print(df['Regionalebene'].unique())"
   ]
  },
  {
   "cell_type": "code",
   "execution_count": null,
   "metadata": {},
   "outputs": [],
   "source": []
  }
 ],
 "metadata": {
  "kernelspec": {
   "display_name": "Python 3",
   "language": "python",
   "name": "python3"
  },
  "language_info": {
   "codemirror_mode": {
    "name": "ipython",
    "version": 3
   },
   "file_extension": ".py",
   "mimetype": "text/x-python",
   "name": "python",
   "nbconvert_exporter": "python",
   "pygments_lexer": "ipython3",
   "version": "3.12.4"
  }
 },
 "nbformat": 4,
 "nbformat_minor": 2
}
