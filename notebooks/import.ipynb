{
 "cells": [
  {
   "cell_type": "markdown",
   "metadata": {},
   "source": [
    "# import and read"
   ]
  },
  {
   "cell_type": "code",
   "execution_count": 28,
   "metadata": {},
   "outputs": [],
   "source": [
    "import pandas as pd\n",
    "import os\n",
    "import sqlalchemy as sql\n",
    "import numpy as np\n"
   ]
  },
  {
   "cell_type": "code",
   "execution_count": 29,
   "metadata": {},
   "outputs": [
    {
     "name": "stdout",
     "output_type": "stream",
     "text": [
      "Dateninfrastruktur aufgesetzt und Excel-Daten geladen.\n"
     ]
    }
   ],
   "source": [
    "# Verbindung zur PostgreSQL-Datenbank herstellen\n",
    "# Hier musst du die tatsächlichen Verbindungsdaten deiner PostgreSQL-Datenbank eingeben\n",
    "db_username = 'dein_benutzername'\n",
    "db_password = 'dein_passwort'\n",
    "db_host = 'localhost'\n",
    "db_port = '5432'\n",
    "db_name = 'zensus'\n",
    "\n",
    "engine = create_engine(f'postgresql://{db_username}:{db_password}@{db_host}:{db_port}/{db_name}')\n",
    "\n",
    "# Pfad zur Excel-Datei\n",
    "file_path = 'C:\\\\Users\\\\hp\\\\OneDrive\\\\Desktop\\\\DBU\\\\SP3-1.Dateninfrastrukturen\\\\Pruefung\\\\Zensus\\\\input\\\\Zensus.xlsx'\n",
    "# Lese die Excel-Datei ein und speichere die Blätter als einzelne DataFrames\n",
    "sheets = pd.read_excel(file_path, sheet_name=None)\n",
    "csv_sheets = {sheet_name: data for sheet_name, data in sheets.items() if sheet_name.startswith('CSV')}\n",
    "\n",
    "# check\n",
    "print(\"Dateninfrastruktur aufgesetzt und Excel-Daten geladen.\")"
   ]
  },
  {
   "cell_type": "code",
   "execution_count": 30,
   "metadata": {},
   "outputs": [
    {
     "name": "stdout",
     "output_type": "stream",
     "text": [
      "Die SQLite-Datenbank wurde hier erstellt: c:\\Users\\hp\\OneDrive\\Desktop\\DBU\\SP3-1.Dateninfrastrukturen\\Pruefung\\Zensus\\notebooks\\zensus.db\n"
     ]
    }
   ],
   "source": [
    "# Den Pfad kontrollieren\n",
    "db_path = os.path.abspath('zensus.db')\n",
    "print(f\"Die SQLite-Datenbank wurde hier erstellt: {db_path}\")"
   ]
  },
  {
   "cell_type": "code",
   "execution_count": 31,
   "metadata": {},
   "outputs": [
    {
     "name": "stdout",
     "output_type": "stream",
     "text": [
      "dict_keys(['CSV-Klassenstufe', 'CSV-Schulform', 'CSV-Hoechster_Schulabschluss', 'CSV-Hoechster_berufl_Abschluss', 'CSV-Erwerbsstatus', 'CSV-ET_Alter', 'CSV-ET_Hoechst_berufl_Abschl', 'CSV-ET_Stellung_im_Beruf', 'CSV-ET_Beruf_Hauptgr_ISCO08', 'CSV-ET_Wirtschaftszweig'])\n"
     ]
    }
   ],
   "source": [
    "sheet_names = csv_sheets.keys()\n",
    "print(sheet_names)"
   ]
  },
  {
   "cell_type": "code",
   "execution_count": 32,
   "metadata": {},
   "outputs": [
    {
     "name": "stdout",
     "output_type": "stream",
     "text": [
      "Erstellte DataFrames:\n",
      "CSV_Klassenstufe\n",
      "CSV_Schulform\n",
      "CSV_Hoechster_Schulabschluss\n",
      "CSV_Hoechster_berufl_Abschluss\n",
      "CSV_Erwerbsstatus\n",
      "CSV_ET_Alter\n",
      "CSV_ET_Hoechst_berufl_Abschl\n",
      "CSV_ET_Stellung_im_Beruf\n",
      "CSV_ET_Beruf_Hauptgr_ISCO08\n",
      "CSV_ET_Wirtschaftszweig\n"
     ]
    }
   ],
   "source": [
    "# Speichern der DataFrames in separaten Variablen mit angepassten Namen\n",
    "created_dfs = []\n",
    "for sheet_name, data in csv_sheets.items():\n",
    "    new_sheet_name = sheet_name.replace('-', '_')\n",
    "    globals()[new_sheet_name] = data\n",
    "    created_dfs.append(new_sheet_name)\n",
    "\n",
    "# Anzeigen der neuen Namen der erstellten DataFrames\n",
    "print(\"Erstellte DataFrames:\")\n",
    "for df_name in created_dfs:\n",
    "    print(df_name)"
   ]
  },
  {
   "cell_type": "code",
   "execution_count": null,
   "metadata": {},
   "outputs": [],
   "source": [
    "# Überprüfung auf fehlende Werte in allen DataFrames\n",
    "for i, df_name in enumerate(created_dfs):\n",
    "    df = globals()[df_name]\n",
    "    print(f\"Missing values in DataFrame {i + 1} ({df_name}):\")\n",
    "    print(df.isnull().sum())\n",
    "   "
   ]
  },
  {
   "cell_type": "markdown",
   "metadata": {},
   "source": [
    "# EDA"
   ]
  },
  {
   "cell_type": "code",
   "execution_count": 42,
   "metadata": {},
   "outputs": [
    {
     "data": {
      "text/html": [
       "<div>\n",
       "<style scoped>\n",
       "    .dataframe tbody tr th:only-of-type {\n",
       "        vertical-align: middle;\n",
       "    }\n",
       "\n",
       "    .dataframe tbody tr th {\n",
       "        vertical-align: top;\n",
       "    }\n",
       "\n",
       "    .dataframe thead th {\n",
       "        text-align: right;\n",
       "    }\n",
       "</style>\n",
       "<table border=\"1\" class=\"dataframe\">\n",
       "  <thead>\n",
       "    <tr style=\"text-align: right;\">\n",
       "      <th></th>\n",
       "      <th>Berichtszeitpunkt</th>\n",
       "      <th>_RS</th>\n",
       "      <th>Name</th>\n",
       "      <th>Regionalebene</th>\n",
       "      <th>SCHUELER_KLSS_STP</th>\n",
       "      <th>SCHUELER_KLSS_STP__M</th>\n",
       "      <th>SCHUELER_KLSS_STP__W</th>\n",
       "      <th>SCHUELER_KLSS_STP__1</th>\n",
       "      <th>SCHUELER_KLSS_STP__1_M</th>\n",
       "      <th>SCHUELER_KLSS_STP__1_W</th>\n",
       "      <th>SCHUELER_KLSS_STP__2</th>\n",
       "      <th>SCHUELER_KLSS_STP__2_M</th>\n",
       "      <th>SCHUELER_KLSS_STP__2_W</th>\n",
       "      <th>SCHUELER_KLSS_STP__3</th>\n",
       "      <th>SCHUELER_KLSS_STP__3_M</th>\n",
       "      <th>SCHUELER_KLSS_STP__3_W</th>\n",
       "    </tr>\n",
       "  </thead>\n",
       "  <tbody>\n",
       "    <tr>\n",
       "      <th>0</th>\n",
       "      <td>20220515</td>\n",
       "      <td>0</td>\n",
       "      <td>Deutschland</td>\n",
       "      <td>Bund</td>\n",
       "      <td>8903780</td>\n",
       "      <td>4536040</td>\n",
       "      <td>4367740</td>\n",
       "      <td>3048570</td>\n",
       "      <td>1563180</td>\n",
       "      <td>1485400</td>\n",
       "      <td>4490850</td>\n",
       "      <td>2324270</td>\n",
       "      <td>2166580</td>\n",
       "      <td>1364360</td>\n",
       "      <td>648590</td>\n",
       "      <td>715760</td>\n",
       "    </tr>\n",
       "    <tr>\n",
       "      <th>1</th>\n",
       "      <td>20220515</td>\n",
       "      <td>1</td>\n",
       "      <td>Schleswig-Holstein</td>\n",
       "      <td>Land</td>\n",
       "      <td>320060</td>\n",
       "      <td>162880</td>\n",
       "      <td>157180</td>\n",
       "      <td>109240</td>\n",
       "      <td>54930</td>\n",
       "      <td>54310</td>\n",
       "      <td>161100</td>\n",
       "      <td>83860</td>\n",
       "      <td>77240</td>\n",
       "      <td>49720</td>\n",
       "      <td>24090</td>\n",
       "      <td>25630</td>\n",
       "    </tr>\n",
       "  </tbody>\n",
       "</table>\n",
       "</div>"
      ],
      "text/plain": [
       "   Berichtszeitpunkt  _RS                Name Regionalebene SCHUELER_KLSS_STP SCHUELER_KLSS_STP__M SCHUELER_KLSS_STP__W SCHUELER_KLSS_STP__1 SCHUELER_KLSS_STP__1_M SCHUELER_KLSS_STP__1_W SCHUELER_KLSS_STP__2 SCHUELER_KLSS_STP__2_M SCHUELER_KLSS_STP__2_W SCHUELER_KLSS_STP__3 SCHUELER_KLSS_STP__3_M SCHUELER_KLSS_STP__3_W\n",
       "0           20220515    0         Deutschland          Bund           8903780              4536040              4367740              3048570                1563180                1485400              4490850                2324270                2166580              1364360                 648590                 715760\n",
       "1           20220515    1  Schleswig-Holstein          Land            320060               162880               157180               109240                  54930                  54310               161100                  83860                  77240                49720                  24090                  25630"
      ]
     },
     "execution_count": 42,
     "metadata": {},
     "output_type": "execute_result"
    }
   ],
   "source": [
    "CSV_Klassenstufe.head(2)"
   ]
  },
  {
   "cell_type": "code",
   "execution_count": 44,
   "metadata": {},
   "outputs": [
    {
     "data": {
      "text/html": [
       "<div>\n",
       "<style scoped>\n",
       "    .dataframe tbody tr th:only-of-type {\n",
       "        vertical-align: middle;\n",
       "    }\n",
       "\n",
       "    .dataframe tbody tr th {\n",
       "        vertical-align: top;\n",
       "    }\n",
       "\n",
       "    .dataframe thead th {\n",
       "        text-align: right;\n",
       "    }\n",
       "</style>\n",
       "<table border=\"1\" class=\"dataframe\">\n",
       "  <thead>\n",
       "    <tr style=\"text-align: right;\">\n",
       "      <th></th>\n",
       "      <th>Berichtszeitpunkt</th>\n",
       "      <th>_RS</th>\n",
       "      <th>Name</th>\n",
       "      <th>Regionalebene</th>\n",
       "      <th>SCHUELER_SCH_STP</th>\n",
       "      <th>SCHUELER_SCH_STP__M</th>\n",
       "      <th>SCHUELER_SCH_STP__W</th>\n",
       "      <th>SCHUELER_SCH_STP__1</th>\n",
       "      <th>SCHUELER_SCH_STP__1_M</th>\n",
       "      <th>SCHUELER_SCH_STP__1_W</th>\n",
       "      <th>SCHUELER_SCH_STP__2</th>\n",
       "      <th>SCHUELER_SCH_STP__2_M</th>\n",
       "      <th>SCHUELER_SCH_STP__2_W</th>\n",
       "      <th>SCHUELER_SCH_STP__3</th>\n",
       "      <th>SCHUELER_SCH_STP__3_M</th>\n",
       "      <th>SCHUELER_SCH_STP__3_W</th>\n",
       "      <th>SCHUELER_SCH_STP__4</th>\n",
       "      <th>SCHUELER_SCH_STP__4_M</th>\n",
       "      <th>SCHUELER_SCH_STP__4_W</th>\n",
       "      <th>SCHUELER_SCH_STP__5</th>\n",
       "      <th>SCHUELER_SCH_STP__5_M</th>\n",
       "      <th>SCHUELER_SCH_STP__5_W</th>\n",
       "      <th>SCHUELER_SCH_STP__6</th>\n",
       "      <th>SCHUELER_SCH_STP__6_M</th>\n",
       "      <th>SCHUELER_SCH_STP__6_W</th>\n",
       "      <th>SCHUELER_SCH_STP__7</th>\n",
       "      <th>SCHUELER_SCH_STP__7_M</th>\n",
       "      <th>SCHUELER_SCH_STP__7_W</th>\n",
       "    </tr>\n",
       "  </thead>\n",
       "  <tbody>\n",
       "    <tr>\n",
       "      <th>0</th>\n",
       "      <td>20220515</td>\n",
       "      <td>0</td>\n",
       "      <td>Deutschland</td>\n",
       "      <td>Bund</td>\n",
       "      <td>8903780</td>\n",
       "      <td>4536040</td>\n",
       "      <td>4367740</td>\n",
       "      <td>3033030</td>\n",
       "      <td>1544890</td>\n",
       "      <td>1488150</td>\n",
       "      <td>231290</td>\n",
       "      <td>147550</td>\n",
       "      <td>83740</td>\n",
       "      <td>547660</td>\n",
       "      <td>281880</td>\n",
       "      <td>265780</td>\n",
       "      <td>406900</td>\n",
       "      <td>234310</td>\n",
       "      <td>172590</td>\n",
       "      <td>1251860</td>\n",
       "      <td>654280</td>\n",
       "      <td>597590</td>\n",
       "      <td>838400</td>\n",
       "      <td>433130</td>\n",
       "      <td>405270</td>\n",
       "      <td>2594630</td>\n",
       "      <td>1240010</td>\n",
       "      <td>1354630</td>\n",
       "    </tr>\n",
       "    <tr>\n",
       "      <th>1</th>\n",
       "      <td>20220515</td>\n",
       "      <td>1</td>\n",
       "      <td>Schleswig-Holstein</td>\n",
       "      <td>Land</td>\n",
       "      <td>320060</td>\n",
       "      <td>162880</td>\n",
       "      <td>157180</td>\n",
       "      <td>105520</td>\n",
       "      <td>52830</td>\n",
       "      <td>52690</td>\n",
       "      <td>5680</td>\n",
       "      <td>3870</td>\n",
       "      <td>1800</td>\n",
       "      <td>32230</td>\n",
       "      <td>16820</td>\n",
       "      <td>15410</td>\n",
       "      <td>6360</td>\n",
       "      <td>3710</td>\n",
       "      <td>2660</td>\n",
       "      <td>16560</td>\n",
       "      <td>8850</td>\n",
       "      <td>7710</td>\n",
       "      <td>60880</td>\n",
       "      <td>31750</td>\n",
       "      <td>29130</td>\n",
       "      <td>92830</td>\n",
       "      <td>45050</td>\n",
       "      <td>47780</td>\n",
       "    </tr>\n",
       "  </tbody>\n",
       "</table>\n",
       "</div>"
      ],
      "text/plain": [
       "   Berichtszeitpunkt  _RS                Name Regionalebene SCHUELER_SCH_STP SCHUELER_SCH_STP__M SCHUELER_SCH_STP__W SCHUELER_SCH_STP__1 SCHUELER_SCH_STP__1_M SCHUELER_SCH_STP__1_W SCHUELER_SCH_STP__2 SCHUELER_SCH_STP__2_M SCHUELER_SCH_STP__2_W SCHUELER_SCH_STP__3 SCHUELER_SCH_STP__3_M SCHUELER_SCH_STP__3_W SCHUELER_SCH_STP__4 SCHUELER_SCH_STP__4_M SCHUELER_SCH_STP__4_W SCHUELER_SCH_STP__5 SCHUELER_SCH_STP__5_M SCHUELER_SCH_STP__5_W SCHUELER_SCH_STP__6 SCHUELER_SCH_STP__6_M SCHUELER_SCH_STP__6_W SCHUELER_SCH_STP__7 SCHUELER_SCH_STP__7_M SCHUELER_SCH_STP__7_W\n",
       "0           20220515    0         Deutschland          Bund          8903780             4536040             4367740             3033030               1544890               1488150              231290                147550                 83740              547660                281880                265780              406900                234310                172590             1251860                654280                597590              838400                433130                405270             2594630               1240010               1354630\n",
       "1           20220515    1  Schleswig-Holstein          Land           320060              162880              157180              105520                 52830                 52690                5680                  3870                  1800               32230                 16820                 15410                6360                  3710                  2660               16560                  8850                  7710               60880                 31750                 29130               92830                 45050                 47780"
      ]
     },
     "execution_count": 44,
     "metadata": {},
     "output_type": "execute_result"
    }
   ],
   "source": [
    "CSV_Schulform.head(2)"
   ]
  },
  {
   "cell_type": "code",
   "execution_count": null,
   "metadata": {},
   "outputs": [],
   "source": []
  },
  {
   "cell_type": "code",
   "execution_count": null,
   "metadata": {},
   "outputs": [],
   "source": []
  },
  {
   "cell_type": "code",
   "execution_count": null,
   "metadata": {},
   "outputs": [],
   "source": []
  },
  {
   "cell_type": "code",
   "execution_count": null,
   "metadata": {},
   "outputs": [],
   "source": []
  },
  {
   "cell_type": "code",
   "execution_count": null,
   "metadata": {},
   "outputs": [],
   "source": []
  },
  {
   "cell_type": "markdown",
   "metadata": {},
   "source": [
    "# transform"
   ]
  },
  {
   "cell_type": "code",
   "execution_count": 34,
   "metadata": {},
   "outputs": [],
   "source": [
    "df=pd.DataFrame(CSV_Klassenstufe)"
   ]
  },
  {
   "cell_type": "code",
   "execution_count": 35,
   "metadata": {},
   "outputs": [
    {
     "name": "stdout",
     "output_type": "stream",
     "text": [
      "   Berichtszeitpunkt          _RS                    Name                          Regionalebene SCHUELER_KLSS_STP SCHUELER_KLSS_STP__M SCHUELER_KLSS_STP__W SCHUELER_KLSS_STP__1 SCHUELER_KLSS_STP__1_M SCHUELER_KLSS_STP__1_W SCHUELER_KLSS_STP__2 SCHUELER_KLSS_STP__2_M SCHUELER_KLSS_STP__2_W SCHUELER_KLSS_STP__3 SCHUELER_KLSS_STP__3_M SCHUELER_KLSS_STP__3_W\n",
      "0           20220515            0             Deutschland                                   Bund           8903780              4536040              4367740              3048570                1563180                1485400              4490850                2324270                2166580              1364360                 648590                 715760\n",
      "1           20220515            1      Schleswig-Holstein                                   Land            320060               162880               157180               109240                  54930                  54310               161100                  83860                  77240                49720                  24090                  25630\n",
      "2           20220515         1001        Flensburg, Stadt  Stadtkreis/kreisfreie Stadt/Landkreis             10380                 5010                 5370                 3530                   1540                   1990                 5030                   2700                   2330                 1820                    770                   1060\n",
      "3           20220515  10010000000        Flensburg, Stadt                               Gemeinde             10380                 5010                 5370                 3530                   1540                   1990                 5030                   2700                   2330                 1820                    770                   1060\n",
      "4           20220515         1002  Kiel, Landeshauptstadt  Stadtkreis/kreisfreie Stadt/Landkreis             24340                12270                12070                 8770                   4180                   4590                11180                   5810                   5360                 4400                   2280                   2120\n"
     ]
    }
   ],
   "source": [
    "# Optionen einstellen\n",
    "pd.set_option('display.max_columns', None)\n",
    "pd.set_option('display.expand_frame_repr', False)\n",
    "\n",
    "# DataFrame anzeigen\n",
    "print(df.head())"
   ]
  },
  {
   "cell_type": "code",
   "execution_count": 36,
   "metadata": {},
   "outputs": [],
   "source": [
    "df['SCHUELER_KLSS_STP'] = pd.to_numeric(df['SCHUELER_KLSS_STP'], errors='coerce')"
   ]
  },
  {
   "cell_type": "code",
   "execution_count": 37,
   "metadata": {},
   "outputs": [],
   "source": [
    "df_cleaned = df.dropna(subset=['SCHUELER_KLSS_STP'])"
   ]
  },
  {
   "cell_type": "code",
   "execution_count": 38,
   "metadata": {},
   "outputs": [
    {
     "data": {
      "text/plain": [
       "Regionalebene\n",
       "Bund                                     8903780.0\n",
       "Gemeinde                                 6631640.0\n",
       "Gemeindeverband                          1310750.0\n",
       "Land                                     8903780.0\n",
       "Regierungsbezirk                         7013880.0\n",
       "Stadtkreis/kreisfreie Stadt/Landkreis    8903770.0\n",
       "Name: SCHUELER_KLSS_STP, dtype: float64"
      ]
     },
     "execution_count": 38,
     "metadata": {},
     "output_type": "execute_result"
    }
   ],
   "source": [
    "df_cleaned.groupby('Regionalebene')['SCHUELER_KLSS_STP'].sum()"
   ]
  },
  {
   "cell_type": "code",
   "execution_count": 39,
   "metadata": {},
   "outputs": [
    {
     "name": "stdout",
     "output_type": "stream",
     "text": [
      "['Bund' 'Land' 'Stadtkreis/kreisfreie Stadt/Landkreis' 'Gemeinde'\n",
      " 'Gemeindeverband' 'Regierungsbezirk']\n"
     ]
    }
   ],
   "source": [
    "print(df['Regionalebene'].unique())"
   ]
  },
  {
   "cell_type": "code",
   "execution_count": 40,
   "metadata": {},
   "outputs": [],
   "source": [
    "# Verbindung zur Datenbank schließen\n",
    "engine.dispose()"
   ]
  }
 ],
 "metadata": {
  "kernelspec": {
   "display_name": "Python 3",
   "language": "python",
   "name": "python3"
  },
  "language_info": {
   "codemirror_mode": {
    "name": "ipython",
    "version": 3
   },
   "file_extension": ".py",
   "mimetype": "text/x-python",
   "name": "python",
   "nbconvert_exporter": "python",
   "pygments_lexer": "ipython3",
   "version": "3.12.4"
  }
 },
 "nbformat": 4,
 "nbformat_minor": 2
}
